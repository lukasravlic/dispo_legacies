{
 "cells": [
  {
   "cell_type": "code",
   "execution_count": 1,
   "id": "d87a64a0",
   "metadata": {},
   "outputs": [],
   "source": [
    "import pandas as pd\n",
    "import numpy as np\n",
    "import datetime\n",
    "\n"
   ]
  },
  {
   "cell_type": "code",
   "execution_count": 2,
   "id": "4929ff4f",
   "metadata": {},
   "outputs": [],
   "source": [
    "columnas = ['Order \\nNumber', 'Fecha Estimada De Llegada','Fecha del\\nPedido','Fecha\\nFactura', 'Fecha\\nllegada DITEC', 'Códigos','Qty','Forma de\\nenvío','Marca','Factura']\n"
   ]
  },
  {
   "cell_type": "code",
   "execution_count": null,
   "id": "e2754007",
   "metadata": {},
   "outputs": [
    {
     "name": "stdout",
     "output_type": "stream",
     "text": [
      "Archivo de Stock seleccionado: C:/Users/lravlic/Codigos/dispo_legacies/Panel de control 2025...xlsx\n",
      "Archivo de Stock cargado correctamente.\n"
     ]
    }
   ],
   "source": [
    "import tkinter as tk\n",
    "from tkinter import filedialog\n",
    "import pandas as pd\n",
    "import os\n",
    "\n",
    "# Crear la ventana principal oculta (necesaria para abrir el explorador de archivos)\n",
    "root = tk.Tk()\n",
    "root.withdraw()  # Ocultar la ventana principal de tkinter\n",
    "\n",
    "# Abrir un cuadro de diálogo para seleccionar el archivo de stock\n",
    "archivo_tubo = filedialog.askopenfilename(\n",
    "    title=\"Selecciona el archivo de Panel de Control\",\n",
    "    filetypes=((\"Archivos de Excel\", \"*.xlsx\"), (\"Todos los archivos\", \"*.*\"))\n",
    ")\n",
    "\n",
    "# Verificar si se seleccionó algún archivo\n",
    "if archivo_tubo:\n",
    "    print(f\"Archivo de Control de pedidos seleccionado: {archivo_tubo}\")\n",
    "    dtypes={'Order \\nNumber':'str','Códigos':'str'}\n",
    "    \n",
    "    # Leer el archivo seleccionado\n",
    "    df = pd.read_excel(archivo_tubo, dtype=dtypes, sheet_name=\"Control de pedidos LR\",usecols = columnas,header=1, parse_dates=['Fecha\\nFactura'])\n",
    "    print(\"Archivo de Control de pedidos cargado correctamente.\")\n",
    "else:\n",
    "    print(\"No se seleccionó ningún archivo de Stock.\")"
   ]
  },
  {
   "cell_type": "code",
   "execution_count": 4,
   "id": "6328ba14",
   "metadata": {},
   "outputs": [],
   "source": [
    "transito = df.rename(columns={'Order \\nNumber': 'Documento compras', 'Fecha\\nFactura':'Fecha Factura', 'Fecha\\nllegada DITEC':'Fecha ATA', 'Códigos':'Material','Qty':'Cantidad','Forma de\\nenvío':'Via','Marca':'Marca' , 'Fecha del\\nPedido':'Fecha Pedido'})"
   ]
  },
  {
   "cell_type": "code",
   "execution_count": 5,
   "id": "f75b8143",
   "metadata": {},
   "outputs": [],
   "source": [
    "import pandas as pd\n",
    "import numpy as np\n",
    "\n",
    "# Assuming your DataFrame is called 'transito'\n",
    "\n",
    "# Condition for 'Facturado': is it a number AND greater than 0?\n",
    "is_numeric = pd.to_numeric(transito['Factura'], errors='coerce').notna()\n",
    "is_greater_than_zero = pd.to_numeric(transito['Factura'], errors='coerce') > 0\n",
    "condition_facturado = is_numeric & is_greater_than_zero"
   ]
  },
  {
   "cell_type": "code",
   "execution_count": 6,
   "id": "ed170c06",
   "metadata": {},
   "outputs": [],
   "source": [
    "cond = [\n",
    "    transito['Factura'] == \"BO\",\n",
    "    transito['Factura'] == \"Cancelado\",\n",
    "    transito['Factura'] == \"Obsoleto\",\n",
    "    transito['Factura'].isna(),\n",
    "    condition_facturado  # Our new condition for \"Facturado\"\n",
    "]\n",
    "opc = [\n",
    "    'Back Order',\n",
    "    '',\n",
    "    '',\n",
    "    'OC Fabrica',\n",
    "    'Facturado'\n",
    "]\n",
    "\n",
    "transito['Estado'] = np.select(cond, opc, default='Otro Estado') # Added a default case"
   ]
  },
  {
   "cell_type": "code",
   "execution_count": 7,
   "id": "edabf764",
   "metadata": {},
   "outputs": [
    {
     "data": {
      "application/vnd.microsoft.datawrangler.viewer.v0+json": {
       "columns": [
        {
         "name": "Estado",
         "rawType": "object",
         "type": "string"
        },
        {
         "name": "count",
         "rawType": "int64",
         "type": "integer"
        }
       ],
       "ref": "cdfc3fc5-0563-43c4-ae76-ef0a857f62b1",
       "rows": [
        [
         "Facturado",
         "9783"
        ],
        [
         "Back Order",
         "862"
        ],
        [
         "",
         "62"
        ],
        [
         "Otro Estado",
         "1"
        ],
        [
         "OC Fabrica",
         "1"
        ]
       ],
       "shape": {
        "columns": 1,
        "rows": 5
       }
      },
      "text/plain": [
       "Estado\n",
       "Facturado      9783\n",
       "Back Order      862\n",
       "                 62\n",
       "Otro Estado       1\n",
       "OC Fabrica        1\n",
       "Name: count, dtype: int64"
      ]
     },
     "execution_count": 7,
     "metadata": {},
     "output_type": "execute_result"
    }
   ],
   "source": [
    "transito['Estado'].value_counts()"
   ]
  },
  {
   "cell_type": "code",
   "execution_count": 8,
   "id": "19771c18",
   "metadata": {},
   "outputs": [],
   "source": [
    "transito['AUX'] = transito['Documento compras'] + transito['Material']\n"
   ]
  },
  {
   "cell_type": "code",
   "execution_count": 9,
   "id": "57df1564",
   "metadata": {},
   "outputs": [],
   "source": [
    "transito['Cantidad_transito'] = 0  # Initialize the new column with 0\n",
    "\n",
    "# Use .loc to set 'Cantidad_transito' to 'Cantidad' where 'Fecha ATA' is null\n",
    "transito.loc[transito['Fecha ATA'].isna(), 'Cantidad_transito'] = transito['Cantidad']\n"
   ]
  },
  {
   "cell_type": "code",
   "execution_count": 10,
   "id": "0c589e57",
   "metadata": {},
   "outputs": [],
   "source": [
    "cond = [transito['Via']=='Courrier',transito['Via']=='Aéreo', transito['Via']=='Marítimo']\n",
    "opc = [10,20,90]\n",
    "\n",
    "transito['dias_suma_vía'] = np.select(cond, opc)\n",
    "\n"
   ]
  },
  {
   "cell_type": "code",
   "execution_count": null,
   "id": "e69bfec6",
   "metadata": {},
   "outputs": [],
   "source": []
  },
  {
   "cell_type": "code",
   "execution_count": 11,
   "id": "7b69f0c9",
   "metadata": {},
   "outputs": [],
   "source": [
    "transito['Fecha Pedido'] = pd.to_datetime(transito['Fecha Pedido'])\n",
    "#transito['Fecha Estimada De Llegada'] = pd.to_datetime(transito['Fecha Estimada De Llegada'])"
   ]
  },
  {
   "cell_type": "code",
   "execution_count": 12,
   "id": "be4feec0",
   "metadata": {},
   "outputs": [],
   "source": [
    "import pandas as pd\n",
    "import numpy as np\n",
    "import datetime\n",
    "\n",
    "# Assuming 'transito' DataFrame is already loaded and has the necessary columns:\n",
    "# 'Cantidad_transito', 'Estado', 'Fecha Estimada De Llegada',\n",
    "# 'Fecha Pedido', 'dias_suma_vía', and 'fecha_estimada_llegada' (even if it's going to be overwritten)\n",
    "\n",
    "# --- Second Code Snippet (Calculate/Recalculate 'fecha_estimada_llegada') ---\n",
    "cond_estimada = [\n",
    "    transito['Cantidad_transito'] == 0,\n",
    "    transito['Estado'] == 'Facturado',\n",
    "    (transito['Cantidad_transito'] != 0) & (transito['Fecha Estimada De Llegada'].isna())\n",
    "]\n",
    "opc_estimada = [\n",
    "    pd.NaT,\n",
    "    transito['Fecha Estimada De Llegada'], # This assumes 'Fecha Estimada De Llegada' is a separate column\n",
    "    transito['Fecha Pedido'] + pd.to_timedelta(transito['dias_suma_vía'], unit='D')\n",
    "]\n",
    "default_option_estimada = transito['Fecha Pedido'] + pd.to_timedelta(transito['dias_suma_vía'], unit='D')\n",
    "\n",
    "transito['fecha_estimada_llegada'] = np.select(cond_estimada, opc_estimada, default=default_option_estimada)\n",
    "# Ensure this column is datetime after the operation"
   ]
  },
  {
   "cell_type": "code",
   "execution_count": 13,
   "id": "92a72475",
   "metadata": {},
   "outputs": [],
   "source": [
    "\n",
    "#transito['fecha_estimada_llegada'] = pd.to_datetime(transito['fecha_estimada_llegada'])\n",
    "\n",
    "\n",
    "# --- First Code Snippet (Calculate 'Fecha Llegada Final') ---\n",
    "hoy = pd.to_datetime(datetime.datetime.today().date()) # Get today's date\n",
    "\n",
    "transito['fecha_estimada_llegada'] = pd.to_datetime(transito['fecha_estimada_llegada'])\n",
    "cond_final = [hoy > transito['fecha_estimada_llegada']]\n"
   ]
  },
  {
   "cell_type": "code",
   "execution_count": 15,
   "id": "a8ef5334",
   "metadata": {},
   "outputs": [],
   "source": [
    "opc_final = [hoy + pd.to_timedelta(transito['dias_suma_vía'], unit='D')]\n",
    "\n",
    "transito['Fecha Llegada Final'] = np.select(cond_final, opc_final, transito['fecha_estimada_llegada'])\n",
    "\n",
    "# Ensure the new column is also datetime\n",
    "transito['Fecha Llegada Final'] = pd.to_datetime(transito['Fecha Llegada Final'])"
   ]
  },
  {
   "cell_type": "code",
   "execution_count": 16,
   "id": "837f0a84",
   "metadata": {},
   "outputs": [],
   "source": [
    "transito['Semana Llegada'] = transito['Fecha Llegada Final'].dt.isocalendar().week"
   ]
  },
  {
   "cell_type": "code",
   "execution_count": 17,
   "id": "ca56eb9f",
   "metadata": {},
   "outputs": [],
   "source": [
    "transito['AUX'] = transito['Documento compras'] + transito['Material']"
   ]
  },
  {
   "cell_type": "code",
   "execution_count": 18,
   "id": "f115c56e",
   "metadata": {},
   "outputs": [],
   "source": [
    "transito_final = transito[['AUX', 'Cantidad_transito','Fecha Llegada Final']]"
   ]
  },
  {
   "cell_type": "code",
   "execution_count": 19,
   "id": "48256c42",
   "metadata": {},
   "outputs": [
    {
     "name": "stdout",
     "output_type": "stream",
     "text": [
      "Archivo guardado en: C:/Users/lravlic/Codigos/dispo_legacies/transito_27-06.xlsx\n"
     ]
    }
   ],
   "source": [
    "import pandas as pd\n",
    "from tkinter import Tk\n",
    "from tkinter.filedialog import asksaveasfilename\n",
    "\n",
    "\n",
    "\n",
    "# Ocultar ventana principal de tkinter\n",
    "root = Tk()\n",
    "root.withdraw()\n",
    "\n",
    "# Abrir cuadro de diálogo para elegir la ubicación de guardado\n",
    "file_path = asksaveasfilename(\n",
    "    defaultextension=\".xlsx\",\n",
    "    filetypes=[(\"Excel files\", \"*.xlsx\")],\n",
    "    title=\"Guardar archivo como\"\n",
    ")\n",
    "\n",
    "# Guardar si se seleccionó una ruta\n",
    "if file_path:\n",
    "    transito.to_excel(file_path, index=False)\n",
    "    print(f\"Archivo guardado en: {file_path}\")\n",
    "else:\n",
    "    print(\"Guardado cancelado por el usuario.\")\n"
   ]
  },
  {
   "cell_type": "code",
   "execution_count": null,
   "id": "92625d92",
   "metadata": {},
   "outputs": [],
   "source": []
  }
 ],
 "metadata": {
  "kernelspec": {
   "display_name": "Python 3",
   "language": "python",
   "name": "python3"
  },
  "language_info": {
   "codemirror_mode": {
    "name": "ipython",
    "version": 3
   },
   "file_extension": ".py",
   "mimetype": "text/x-python",
   "name": "python",
   "nbconvert_exporter": "python",
   "pygments_lexer": "ipython3",
   "version": "3.12.0"
  }
 },
 "nbformat": 4,
 "nbformat_minor": 5
}
